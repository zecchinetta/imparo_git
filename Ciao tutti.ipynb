{
 "cells": [
  {
   "cell_type": "code",
   "execution_count": 1,
   "metadata": {
    "collapsed": false
   },
   "outputs": [
    {
     "name": "stderr",
     "output_type": "stream",
     "text": [
      "WARNING: Base.Uint8 is deprecated, use UInt8 instead.\n",
      "WARNING: Base.Uint8 is deprecated, use UInt8 instead.\n",
      "WARNING: Base.Uint8 is deprecated, use UInt8 instead.\n",
      "WARNING: Base.Uint8 is deprecated, use UInt8 instead.\n",
      "WARNING: Base.Uint8 is deprecated, use UInt8 instead.\n",
      "WARNING: Base.Uint8 is deprecated, use UInt8 instead.\n",
      "WARNING: Base.Uint8 is deprecated, use UInt8 instead.\n",
      "WARNING: Base.Uint8 is deprecated, use UInt8 instead.\n",
      "WARNING: Base.Uint8 is deprecated, use UInt8 instead.\n",
      "WARNING: Base.Uint8 is deprecated, use UInt8 instead.\n",
      "WARNING: Base.Uint8 is deprecated, use UInt8 instead.\n",
      "WARNING: Base.Uint8 is deprecated, use UInt8 instead.\n",
      "WARNING: Base.Uint8 is deprecated, use UInt8 instead.\n",
      "WARNING: Base.Uint8 is deprecated, use UInt8 instead.\n",
      "WARNING: Base.Uint8 is deprecated, use UInt8 instead.\n"
     ]
    },
    {
     "data": {
      "text/plain": [
       "0.0"
      ]
     },
     "execution_count": 1,
     "metadata": {},
     "output_type": "execute_result"
    }
   ],
   "source": [
    "tanh(0)"
   ]
  },
  {
   "cell_type": "code",
   "execution_count": 4,
   "metadata": {
    "collapsed": false
   },
   "outputs": [
    {
     "name": "stderr",
     "output_type": "stream",
     "text": [
      "INFO: Initializing package repository /home/juser/.julia/v0.4\n",
      "INFO: Cloning METADATA from git://github.com/JuliaLang/METADATA.jl\n",
      "INFO: Cloning cache of BinDeps from git://github.com/JuliaLang/BinDeps.jl.git\n",
      "INFO: Cloning cache of ColorTypes from git://github.com/JuliaGraphics/ColorTypes.jl.git\n",
      "INFO: Cloning cache of Colors from git://github.com/JuliaGraphics/Colors.jl.git\n",
      "INFO: Cloning cache of Compat from git://github.com/JuliaLang/Compat.jl.git\n",
      "INFO: Cloning cache of Conda from git://github.com/Luthaf/Conda.jl.git\n",
      "INFO: Cloning cache of Dates from git://github.com/quinnj/Dates.jl.git\n",
      "INFO: Cloning cache of Docile from git://github.com/MichaelHatherly/Docile.jl.git\n",
      "INFO: Cloning cache of FixedPointNumbers from git://github.com/JeffBezanson/FixedPointNumbers.jl.git\n",
      "INFO: Cloning cache of JSON from git://github.com/JuliaLang/JSON.jl.git\n",
      "INFO: Cloning cache of LaTeXStrings from git://github.com/stevengj/LaTeXStrings.jl.git\n",
      "INFO: Cloning cache of PyCall from git://github.com/stevengj/PyCall.jl.git\n",
      "INFO: Cloning cache of PyPlot from git://github.com/stevengj/PyPlot.jl.git\n",
      "INFO: Cloning cache of Reexport from git://github.com/simonster/Reexport.jl.git\n",
      "INFO: Cloning cache of SHA from git://github.com/staticfloat/SHA.jl.git\n",
      "INFO: Cloning cache of URIParser from git://github.com/JuliaWeb/URIParser.jl.git\n",
      "INFO: Installing BinDeps v0.3.18\n",
      "INFO: Installing ColorTypes v0.1.7\n",
      "INFO: Installing Colors v0.5.4\n",
      "INFO: Installing Compat v0.7.6\n",
      "INFO: Installing Conda v0.1.7\n",
      "INFO: Installing Dates v0.4.4\n",
      "INFO: Installing Docile v0.5.19\n",
      "INFO: Installing FixedPointNumbers v0.0.12\n",
      "INFO: Installing JSON v0.5.0\n",
      "INFO: Installing LaTeXStrings v0.1.6\n",
      "INFO: Installing PyCall v1.1.2\n",
      "INFO: Installing PyPlot v2.1.1\n",
      "INFO: Installing Reexport v0.0.3\n",
      "INFO: Installing SHA v0.1.2\n",
      "INFO: Installing URIParser v0.1.1\n",
      "INFO: Building PyCall\n",
      "INFO: Precompiling module URIParser...\n",
      "INFO: Precompiling module SHA...\n",
      "INFO: Recompiling stale cache file /home/juser/.julia/lib/v0.4/Compat.ji for module Compat.\n",
      "INFO: Recompiling stale cache file /home/juser/.julia/lib/v0.4/SHA.ji for module SHA.\n",
      "WARNING: Module Compat uuid did not match cache file\n",
      "===============================[ ERROR: PyCall ]================================\n",
      "\n",
      "LoadError: LoadError: LoadError: LoadError: LoadError: __precompile__(true) but require failed to create a precompiled cache file\n",
      "while loading /home/juser/.julia/v0.4/BinDeps/src/dependencies.jl, in expression starting on line 969\n",
      "while loading /home/juser/.julia/v0.4/BinDeps/src/BinDeps.jl, in expression starting on line 507\n",
      "while loading /home/juser/.julia/v0.4/Conda/src/bindeps_conda.jl, in expression starting on line 2\n",
      "while loading /home/juser/.julia/v0.4/Conda/src/Conda.jl, in expression starting on line 202\n",
      "while loading /home/juser/.julia/v0.4/PyCall/deps/build.jl, in expression starting on line 12\n",
      "\n",
      "================================================================================\n",
      "\n",
      "================================[ BUILD ERRORS ]================================\n",
      "\n",
      "WARNING: PyCall had build errors.\n",
      "\n",
      " - packages with build errors remain installed in /home/juser/.julia/v0.4\n",
      " - build the package(s) and all dependencies with `Pkg.build(\"PyCall\")`\n",
      " - build a single package by running its `deps/build.jl` script\n",
      "\n",
      "================================================================================\n",
      "INFO: Package database updated\n"
     ]
    }
   ],
   "source": [
    "Pkg.add(\"PyPlot\")"
   ]
  },
  {
   "cell_type": "code",
   "execution_count": 6,
   "metadata": {
    "collapsed": false
   },
   "outputs": [
    {
     "name": "stderr",
     "output_type": "stream",
     "text": [
      "INFO: Building PyCall\n",
      "INFO: PyCall is using /usr/bin/python (Python 2.7.6) at /usr/bin/python, libpython = libpython2.7\n"
     ]
    }
   ],
   "source": [
    "Pkg.build()"
   ]
  },
  {
   "cell_type": "code",
   "execution_count": 7,
   "metadata": {
    "collapsed": false
   },
   "outputs": [
    {
     "name": "stderr",
     "output_type": "stream",
     "text": [
      "INFO: Updating METADATA...\n",
      "INFO: Computing changes...\n",
      "INFO: No packages to install, update or remove\n"
     ]
    }
   ],
   "source": [
    "Pkg.update()"
   ]
  },
  {
   "cell_type": "code",
   "execution_count": 8,
   "metadata": {
    "collapsed": false
   },
   "outputs": [
    {
     "name": "stderr",
     "output_type": "stream",
     "text": [
      "INFO: Cloning cache of ArrayViews from git://github.com/JuliaLang/ArrayViews.jl.git\n",
      "INFO: Cloning cache of Calculus from git://github.com/johnmyleswhite/Calculus.jl.git\n",
      "INFO: Cloning cache of Codecs from git://github.com/dcjones/Codecs.jl.git\n",
      "INFO: Cloning cache of Compose from git://github.com/dcjones/Compose.jl.git\n",
      "INFO: Cloning cache of Contour from git://github.com/tlycken/Contour.jl.git\n",
      "INFO: Cloning cache of DataArrays from git://github.com/JuliaStats/DataArrays.jl.git\n",
      "INFO: Cloning cache of DataFrames from git://github.com/JuliaStats/DataFrames.jl.git\n",
      "INFO: Cloning cache of DataStructures from git://github.com/JuliaLang/DataStructures.jl.git\n",
      "INFO: Cloning cache of Distances from git://github.com/JuliaStats/Distances.jl.git\n",
      "INFO: Cloning cache of Distributions from git://github.com/JuliaStats/Distributions.jl.git\n",
      "INFO: Cloning cache of DualNumbers from git://github.com/JuliaDiff/DualNumbers.jl.git\n",
      "INFO: Cloning cache of GZip from git://github.com/JuliaLang/GZip.jl.git\n",
      "INFO: Cloning cache of Gadfly from git://github.com/dcjones/Gadfly.jl.git\n",
      "INFO: Cloning cache of Grid from git://github.com/timholy/Grid.jl.git\n",
      "INFO: Cloning cache of Hexagons from git://github.com/dcjones/Hexagons.jl.git\n",
      "INFO: Cloning cache of ImmutableArrays from git://github.com/JuliaGeometry/ImmutableArrays.jl.git\n",
      "INFO: Cloning cache of Iterators from git://github.com/JuliaLang/Iterators.jl.git\n",
      "INFO: Cloning cache of KernelDensity from git://github.com/JuliaStats/KernelDensity.jl.git\n",
      "INFO: Cloning cache of Loess from git://github.com/dcjones/Loess.jl.git\n",
      "INFO: Cloning cache of NaNMath from git://github.com/mlubin/NaNMath.jl.git\n",
      "INFO: Cloning cache of Optim from git://github.com/JuliaOpt/Optim.jl.git\n",
      "INFO: Cloning cache of PDMats from git://github.com/JuliaStats/PDMats.jl.git\n",
      "INFO: Cloning cache of Showoff from git://github.com/dcjones/Showoff.jl.git\n",
      "INFO: Cloning cache of SortingAlgorithms from git://github.com/JuliaLang/SortingAlgorithms.jl.git\n",
      "INFO: Cloning cache of StatsBase from git://github.com/JuliaStats/StatsBase.jl.git\n",
      "INFO: Cloning cache of StatsFuns from git://github.com/JuliaStats/StatsFuns.jl.git\n",
      "INFO: Cloning cache of WoodburyMatrices from git://github.com/timholy/WoodburyMatrices.jl.git\n",
      "INFO: Installing ArrayViews v0.6.4\n",
      "INFO: Installing Calculus v0.1.13\n",
      "INFO: Installing Codecs v0.1.5\n",
      "INFO: Installing Compose v0.3.17\n",
      "INFO: Installing Contour v0.0.8\n",
      "INFO: Installing DataArrays v0.2.19\n",
      "INFO: Installing DataFrames v0.6.10\n",
      "INFO: Installing DataStructures v0.3.13\n",
      "INFO: Installing Distances v0.2.1\n",
      "INFO: Installing Distributions v0.8.7\n",
      "INFO: Installing DualNumbers v0.1.5\n",
      "INFO: Installing GZip v0.2.18\n",
      "INFO: Installing Gadfly v0.3.17\n",
      "INFO: Installing Grid v0.4.0\n",
      "INFO: Installing Hexagons v0.0.4\n",
      "INFO: Installing ImmutableArrays v0.0.11\n",
      "INFO: Installing Iterators v0.1.9\n",
      "INFO: Installing KernelDensity v0.1.2\n",
      "INFO: Installing Loess v0.0.5\n",
      "INFO: Installing NaNMath v0.1.1\n",
      "INFO: Installing Optim v0.4.4\n",
      "INFO: Installing PDMats v0.3.6\n",
      "INFO: Installing Showoff v0.0.6\n",
      "INFO: Installing SortingAlgorithms v0.0.6\n",
      "INFO: Installing StatsBase v0.7.4\n",
      "INFO: Installing StatsFuns v0.1.4\n",
      "INFO: Installing WoodburyMatrices v0.1.2\n",
      "INFO: Package database updated\n"
     ]
    }
   ],
   "source": [
    "Pkg.add(\"Gadfly\")"
   ]
  },
  {
   "cell_type": "code",
   "execution_count": 9,
   "metadata": {
    "collapsed": false
   },
   "outputs": [
    {
     "name": "stderr",
     "output_type": "stream",
     "text": [
      "INFO: Updating METADATA...\n",
      "INFO: Computing changes...\n",
      "INFO: No packages to install, update or remove\n"
     ]
    }
   ],
   "source": [
    "Pkg.update()"
   ]
  },
  {
   "cell_type": "code",
   "execution_count": 4,
   "metadata": {
    "collapsed": false
   },
   "outputs": [
    {
     "data": {
      "text/plain": [
       "0.015625"
      ]
     },
     "execution_count": 4,
     "metadata": {},
     "output_type": "execute_result"
    }
   ],
   "source": [
    "1/(2^6)"
   ]
  },
  {
   "cell_type": "code",
   "execution_count": 10,
   "metadata": {
    "collapsed": false
   },
   "outputs": [
    {
     "name": "stderr",
     "output_type": "stream",
     "text": [
      "WARNING: Base.Uint8 is deprecated, use UInt8 instead.\n",
      "WARNING: Base.Uint8 is deprecated, use UInt8 instead.\n",
      "WARNING: Base.Uint8 is deprecated, use UInt8 instead.\n",
      "WARNING: Base.Uint8 is deprecated, use UInt8 instead.\n",
      "WARNING: Base.Uint8 is deprecated, use UInt8 instead.\n",
      "WARNING: Base.Uint8 is deprecated, use UInt8 instead.\n"
     ]
    },
    {
     "ename": "LoadError",
     "evalue": "LoadError: UndefVarError: subplot not defined\nwhile loading In[10], in expression starting on line 1",
     "output_type": "error",
     "traceback": [
      "LoadError: UndefVarError: subplot not defined\nwhile loading In[10], in expression starting on line 1",
      ""
     ]
    }
   ],
   "source": [
    "ax = subplot(111)\n",
    "\n",
    "ts = collect(0:0.015625:5)\n",
    "s = cos(2π*ts)\n",
    "\n",
    "plot(ts, s, lw = 2)\n",
    "\n",
    "annotate( \"maximo local\", xy = (1, 1), xytext=(3, 1.5) )\n",
    "\n",
    "ylim(-2, 2)"
   ]
  },
  {
   "cell_type": "code",
   "execution_count": 11,
   "metadata": {
    "collapsed": false
   },
   "outputs": [
    {
     "name": "stdout",
     "output_type": "stream",
     "text": [
      "search:\n",
      "\n",
      "Couldn't find annotate\n",
      "Perhaps you meant angle\n"
     ]
    }
   ],
   "source": [
    "?annotate"
   ]
  },
  {
   "cell_type": "markdown",
   "metadata": {},
   "source": [
    "ecuación de calor"
   ]
  },
  {
   "cell_type": "markdown",
   "metadata": {},
   "source": [
    "haciendo $$\\widetilde{u}(x_j, t_j) \\equiv u_j^{(m)}$$"
   ]
  },
  {
   "cell_type": "markdown",
   "metadata": {},
   "source": [
    "$$s = k\\frac{\\Delta t}{(\\Delta x)^2}$$"
   ]
  },
  {
   "cell_type": "markdown",
   "metadata": {},
   "source": [
    "después de discretizar la ecuación de calor queda:"
   ]
  },
  {
   "cell_type": "markdown",
   "metadata": {},
   "source": [
    "$$u_j^{(m+1)} = u_j^{(m)} + s (u_{j+1}^{(m)} - 2u_j^{(m)} + u_{j-1}^{(m)})$$"
   ]
  },
  {
   "cell_type": "code",
   "execution_count": 12,
   "metadata": {
    "collapsed": false
   },
   "outputs": [
    {
     "data": {
      "text/plain": [
       "0.25"
      ]
     },
     "execution_count": 12,
     "metadata": {},
     "output_type": "execute_result"
    }
   ],
   "source": [
    "s = 1/4"
   ]
  },
  {
   "cell_type": "code",
   "execution_count": 13,
   "metadata": {
    "collapsed": false
   },
   "outputs": [
    {
     "data": {
      "text/plain": [
       "0.00390625"
      ]
     },
     "execution_count": 13,
     "metadata": {},
     "output_type": "execute_result"
    }
   ],
   "source": [
    "1/(2^8)"
   ]
  },
  {
   "cell_type": "markdown",
   "metadata": {},
   "source": [
    "haciendo `t = 0.00390625`"
   ]
  },
  {
   "cell_type": "code",
   "execution_count": 14,
   "metadata": {
    "collapsed": false
   },
   "outputs": [
    {
     "name": "stdout",
     "output_type": "stream",
     "text": [
      "search: "
     ]
    },
    {
     "data": {
      "text/latex": [
       "\\begin{verbatim}\n",
       "collect(collection)\n",
       "\\end{verbatim}\n",
       "Return an array of all items in a collection. For associative collections, returns Pair\\{KeyType, ValType\\}.\n",
       "\\begin{verbatim}\n",
       "collect(element_type, collection)\n",
       "\\end{verbatim}\n",
       "Return an array of type \\texttt{Array{element_type,1}} of all items in a collection.\n"
      ],
      "text/markdown": [
       "```\n",
       "collect(collection)\n",
       "```\n",
       "\n",
       "Return an array of all items in a collection. For associative collections, returns Pair{KeyType, ValType}.\n",
       "\n",
       "```\n",
       "collect(element_type, collection)\n",
       "```\n",
       "\n",
       "Return an array of type `Array{element_type,1}` of all items in a collection.\n"
      ],
      "text/plain": [
       "```\n",
       "collect(collection)\n",
       "```\n",
       "\n",
       "Return an array of all items in a collection. For associative collections, returns Pair{KeyType, ValType}.\n",
       "\n",
       "```\n",
       "collect(element_type, collection)\n",
       "```\n",
       "\n",
       "Return an array of type `Array{element_type,1}` of all items in a collection.\n"
      ]
     },
     "execution_count": 14,
     "metadata": {},
     "output_type": "execute_result"
    },
    {
     "name": "stdout",
     "output_type": "stream",
     "text": [
      "collect Collections\n",
      "\n"
     ]
    }
   ],
   "source": [
    "?collect"
   ]
  },
  {
   "cell_type": "code",
   "execution_count": 15,
   "metadata": {
    "collapsed": false
   },
   "outputs": [],
   "source": [
    "u_inicial = [zeros(1000); 1000; zeros(1000)];"
   ]
  },
  {
   "cell_type": "code",
   "execution_count": 16,
   "metadata": {
    "collapsed": true
   },
   "outputs": [],
   "source": [
    "u_actual = u_inicial;"
   ]
  },
  {
   "cell_type": "code",
   "execution_count": 17,
   "metadata": {
    "collapsed": false
   },
   "outputs": [
    {
     "data": {
      "text/plain": [
       "2001-element Array{Float64,1}:\n",
       " 0.0\n",
       " 0.0\n",
       " 0.0\n",
       " 0.0\n",
       " 0.0\n",
       " 0.0\n",
       " 0.0\n",
       " 0.0\n",
       " 0.0\n",
       " 0.0\n",
       " 0.0\n",
       " 0.0\n",
       " 0.0\n",
       " ⋮  \n",
       " 0.0\n",
       " 0.0\n",
       " 0.0\n",
       " 0.0\n",
       " 0.0\n",
       " 0.0\n",
       " 0.0\n",
       " 0.0\n",
       " 0.0\n",
       " 0.0\n",
       " 0.0\n",
       " 0.0"
      ]
     },
     "execution_count": 17,
     "metadata": {},
     "output_type": "execute_result"
    }
   ],
   "source": [
    "u_nueva = zeros( length(u_actual) )\n",
    "\n",
    "for i in 2:(length(u_actual) - 1)\n",
    "    u_nueva[i] = u_actual[i] + 0.25( u_actual[i+1] -2u_actual[i] + u_actual[i-1] )\n",
    "end\n",
    "\n",
    "u_actual = u_nueva"
   ]
  },
  {
   "cell_type": "markdown",
   "metadata": {},
   "source": [
    "hasta aquí calculé un paso de tiempo, *i.e* sólo se hizo una vez, aunque el valor de `u_actual` se actualizó si quiero que suceda más veces lo meto dentro de un `for`.\n",
    "\n",
    "el `for` corre sobre las *m's*"
   ]
  },
  {
   "cell_type": "code",
   "execution_count": 12,
   "metadata": {
    "collapsed": false
   },
   "outputs": [
    {
     "data": {
      "text/plain": [
       "2001-element Array{Float64,1}:\n",
       " 0.0         \n",
       " 0.0         \n",
       " 0.0         \n",
       " 0.0         \n",
       " 0.0         \n",
       " 0.0         \n",
       " 0.0         \n",
       " 0.0         \n",
       " 0.0         \n",
       " 0.0         \n",
       " 0.0         \n",
       " 0.0         \n",
       " 0.0         \n",
       " ⋮           \n",
       " 1.07731e-271\n",
       " 4.17532e-272\n",
       " 1.61771e-272\n",
       " 6.26577e-273\n",
       " 2.42611e-273\n",
       " 9.39093e-274\n",
       " 3.63386e-274\n",
       " 1.40562e-274\n",
       " 5.43231e-275\n",
       " 2.08518e-275\n",
       " 7.40505e-276\n",
       " 0.0         "
      ]
     },
     "execution_count": 12,
     "metadata": {},
     "output_type": "execute_result"
    }
   ],
   "source": [
    "u_actual = u_inicial\n",
    "\n",
    "u_nueva = zeros( length(u_actual) )\n",
    "\n",
    "\n",
    "for j in 1:600\n",
    "\n",
    "    for i in 2:(length(u_actual) - 1)\n",
    "        u_nueva[i] = u_actual[i] + 0.25( u_actual[i+1] -2u_actual[i] + u_actual[i-1] )\n",
    "    end\n",
    "\n",
    "    u_actual = u_nueva\n",
    "end\n",
    "u_actual"
   ]
  },
  {
   "cell_type": "code",
   "execution_count": null,
   "metadata": {
    "collapsed": true
   },
   "outputs": [],
   "source": []
  }
 ],
 "metadata": {
  "kernelspec": {
   "display_name": "Julia 0.4.0-rc2",
   "language": "julia",
   "name": "julia-0.4"
  },
  "language_info": {
   "file_extension": ".jl",
   "mimetype": "application/julia",
   "name": "julia",
   "version": "0.4.0"
  }
 },
 "nbformat": 4,
 "nbformat_minor": 0
}
